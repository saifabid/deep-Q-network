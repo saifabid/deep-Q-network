{
 "cells": [
  {
   "cell_type": "markdown",
   "metadata": {},
   "source": [
    "# Pytorch CNN Playground"
   ]
  },
  {
   "cell_type": "code",
   "execution_count": 68,
   "metadata": {},
   "outputs": [],
   "source": [
    "import torch.nn as nn\n",
    "import sys, os\n",
    "sys.path.append(os.path.abspath(os.path.join('..')))\n",
    "from common.base_model import BaseModel\n",
    "import gym\n",
    "import matplotlib\n",
    "import matplotlib.pyplot as plt\n",
    "\n",
    "import gym\n",
    "import math\n",
    "import random\n",
    "import numpy as np\n",
    "import matplotlib\n",
    "import matplotlib.pyplot as plt\n",
    "from collections import namedtuple\n",
    "from itertools import count\n",
    "from PIL import Image\n",
    "\n",
    "import torch\n",
    "import torch.nn as nn\n",
    "import torch.optim as optim\n",
    "import torch.nn.functional as F\n",
    "import torchvision.transforms as T\n"
   ]
  },
  {
   "cell_type": "code",
   "execution_count": 69,
   "metadata": {},
   "outputs": [],
   "source": [
    "class Model(BaseModel): \n",
    "    def __init__(self):\n",
    "        print (\"CNN Model Init\")\n",
    "    \n",
    "    def add(self, state, action, reward, next_state, done):\n",
    "        pass\n",
    "\n",
    "    def sample(self, *args, **kwargs):\n",
    "        pass\n",
    "\n",
    "    def saveModel(self, *args, **kwargs):\n",
    "        pass\n",
    "\n",
    "    def loadModel(self, *args, **kwargs):\n",
    "        pass\n",
    "    \n",
    "def get_model():\n",
    "    return Model()\n",
    "    "
   ]
  },
  {
   "cell_type": "markdown",
   "metadata": {},
   "source": [
    "## Create Environment"
   ]
  },
  {
   "cell_type": "code",
   "execution_count": 70,
   "metadata": {},
   "outputs": [],
   "source": [
    "env = gym.make('CartPole-v0').unwrapped\n",
    "# set up matplotlib\n",
    "is_ipython = 'inline' in matplotlib.get_backend()\n",
    "if is_ipython:\n",
    "    from IPython import display\n",
    "plt.ion()"
   ]
  },
  {
   "cell_type": "markdown",
   "metadata": {},
   "source": [
    "## Setup Replay Mem"
   ]
  },
  {
   "cell_type": "code",
   "execution_count": 74,
   "metadata": {},
   "outputs": [],
   "source": [
    "Transition = namedtuple(\"Transition\", ('state', 'action', 'next_state', 'reward'))\n",
    "class ReplayMem:\n",
    "    def __init__(self, capacity):\n",
    "        self.capacity = capacity\n",
    "        self.memory = [None for _ in range(self.capacity)]\n",
    "        self.position = 0\n",
    "    \n",
    "    def push(self, trans):\n",
    "        idx = self.position+1 % self.capacity\n",
    "        self.memory[idx] = trans\n",
    "    \n",
    "    def sample(self, num_samples):\n",
    "        return random.sample(self.memory, num_samples)\n",
    "\n",
    "    def __len__(self):\n",
    "        return len(self.memory)\n",
    "        "
   ]
  },
  {
   "cell_type": "markdown",
   "metadata": {},
   "source": [
    "## Create DQN Network"
   ]
  },
  {
   "cell_type": "code",
   "execution_count": 100,
   "metadata": {},
   "outputs": [],
   "source": [
    "def size_finder(w, kernal_size,stride,padding=0):\n",
    "    return ((w-kernal_size)/stride)+1\n",
    "\n",
    "class NN(nn.Module):\n",
    "    '''\n",
    "    Image comes in:\n",
    "        - 84x84x4 (stack 4 pics)\n",
    "        - c1 => 20x20x32\n",
    "        - c2 => 9x9x64\n",
    "        - c3 => 7 x 7 x 64\n",
    "        \n",
    "        - fc input is flattened => 7*7*64 => 3136\n",
    "        - output maps 256 inputs to n_actions as outputs\n",
    "    '''\n",
    "    def __init__(self,n_actions):\n",
    "        super().__init__()\n",
    "        self.conv = nn.Sequential(\n",
    "            nn.Conv2d(4, 32, kernel_size=8, stride=4),\n",
    "            nn.ReLU(),\n",
    "            \n",
    "            \n",
    "            nn.Conv2d(32, 64, kernel_size=4, stride=2),\n",
    "            nn.ReLU(),\n",
    "        \n",
    "            nn.Conv2d(64, 64, kernel_size=3, stride=1),\n",
    "            nn.ReLU()\n",
    "        )\n",
    "        \n",
    "        \n",
    "        self.fc = nn.Sequential(nn.Linear(7*7*64, 512),\n",
    "                                nn.ReLU(),\n",
    "                                nn.Linear(512, n_actions)\n",
    "                               )\n",
    "        \n",
    "    def forward(self, x):\n",
    "        conv_output = self.conv(x)\n",
    "        flatten = conv_output.view(x.size()[0], -1)\n",
    "        return self.fc(flatten)\n",
    "        "
   ]
  },
  {
   "cell_type": "code",
   "execution_count": 104,
   "metadata": {},
   "outputs": [
    {
     "data": {
      "text/plain": [
       "16"
      ]
     },
     "execution_count": 104,
     "metadata": {},
     "output_type": "execute_result"
    }
   ],
   "source": []
  },
  {
   "cell_type": "code",
   "execution_count": null,
   "metadata": {},
   "outputs": [],
   "source": []
  }
 ],
 "metadata": {
  "kernelspec": {
   "display_name": "deep-q-network",
   "language": "python",
   "name": "deep-q-network"
  },
  "language_info": {
   "codemirror_mode": {
    "name": "ipython",
    "version": 3
   },
   "file_extension": ".py",
   "mimetype": "text/x-python",
   "name": "python",
   "nbconvert_exporter": "python",
   "pygments_lexer": "ipython3",
   "version": "3.7.3"
  }
 },
 "nbformat": 4,
 "nbformat_minor": 2
}
