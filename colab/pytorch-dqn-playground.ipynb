{
 "cells": [
  {
   "cell_type": "markdown",
   "metadata": {},
   "source": [
    "# Pytorch CNN Playground"
   ]
  },
  {
   "cell_type": "code",
   "execution_count": 68,
   "metadata": {},
   "outputs": [],
   "source": [
    "import torch.nn as nn\n",
    "import sys, os\n",
    "sys.path.append(os.path.abspath(os.path.join('..')))\n",
    "from common.base_model import BaseModel\n",
    "import gym\n",
    "import matplotlib\n",
    "import matplotlib.pyplot as plt\n",
    "\n",
    "import gym\n",
    "import math\n",
    "import random\n",
    "import numpy as np\n",
    "import matplotlib\n",
    "import matplotlib.pyplot as plt\n",
    "from collections import namedtuple\n",
    "from itertools import count\n",
    "from PIL import Image\n",
    "\n",
    "import torch\n",
    "import torch.nn as nn\n",
    "import torch.optim as optim\n",
    "import torch.nn.functional as F\n",
    "import torchvision.transforms as T\n"
   ]
  },
  {
   "cell_type": "code",
   "execution_count": 69,
   "metadata": {},
   "outputs": [],
   "source": [
    "class Model(BaseModel): \n",
    "    def __init__(self):\n",
    "        print (\"CNN Model Init\")\n",
    "    \n",
    "    def add(self, state, action, reward, next_state, done):\n",
    "        pass\n",
    "\n",
    "    def sample(self, *args, **kwargs):\n",
    "        pass\n",
    "\n",
    "    def saveModel(self, *args, **kwargs):\n",
    "        pass\n",
    "\n",
    "    def loadModel(self, *args, **kwargs):\n",
    "        pass\n",
    "    \n",
    "def get_model():\n",
    "    return Model()\n",
    "    "
   ]
  },
  {
   "cell_type": "markdown",
   "metadata": {},
   "source": [
    "## Create Environment"
   ]
  },
  {
   "cell_type": "code",
   "execution_count": 70,
   "metadata": {},
   "outputs": [],
   "source": [
    "env = gym.make('CartPole-v0').unwrapped\n",
    "# set up matplotlib\n",
    "is_ipython = 'inline' in matplotlib.get_backend()\n",
    "if is_ipython:\n",
    "    from IPython import display\n",
    "plt.ion()"
   ]
  },
  {
   "cell_type": "markdown",
   "metadata": {},
   "source": [
    "## Setup Replay Mem"
   ]
  },
  {
   "cell_type": "code",
   "execution_count": 74,
   "metadata": {},
   "outputs": [],
   "source": [
    "Transition = namedtuple(\"Transition\", ('state', 'action', 'next_state', 'reward'))\n",
    "class ReplayMem:\n",
    "    def __init__(self, capacity):\n",
    "        self.capacity = capacity\n",
    "        self.memory = [None for _ in range(self.capacity)]\n",
    "        self.position = 0\n",
    "    \n",
    "    def push(self, trans):\n",
    "        '''Save a transision'''\n",
    "        # Create a \"spot\"\n",
    "        idx = self.position+1 % self.capacity\n",
    "        self.memory[idx] = trans\n",
    "    \n",
    "    def sample(self, num_samples):\n",
    "        return random.sample(self.memory, num_samples)\n",
    "\n",
    "    def __len__(self):\n",
    "        return len(self.memory)\n",
    "        "
   ]
  },
  {
   "cell_type": "markdown",
   "metadata": {},
   "source": [
    "## Create DQN Network"
   ]
  },
  {
   "cell_type": "code",
   "execution_count": 83,
   "metadata": {},
   "outputs": [],
   "source": [
    "class NN(nn.Module):\n",
    "    def __init__(self,input_shape, n_actions):\n",
    "        super().__init__()\n",
    "        self.conv = nn.Sequential(\n",
    "            nn.Conv2d(input_shape[0], 32, kernel_size=8, stride=4),\n",
    "            nn.ReLU(),\n",
    "            \n",
    "            nn.Conv2d(32, 64, kernel_size=4, stride=2),\n",
    "            nn.ReLU(),\n",
    "        \n",
    "            nn.Conv2d(64, 64, kernel_size=5, stride=2),\n",
    "            nn.ReLU(),\n",
    "        )\n",
    "        \n",
    "        conv_out = self.conv(torch.zeros(1, *shape))\n",
    "        \n",
    "        self.fc = nn.Sequential(nn.Linear(int(np.prod(o.size())), 512),\n",
    "                                nn.ReLU(),\n",
    "                                nn.Linear(512, n_actions)\n",
    "                               )\n",
    "        \n",
    "    def forward(self, x):\n",
    "        conv_output = self.conv(x).view(x.size()[0], -1)\n",
    "        return self.fc(conv_out)\n",
    "        "
   ]
  },
  {
   "cell_type": "code",
   "execution_count": 82,
   "metadata": {},
   "outputs": [
    {
     "data": {
      "text/plain": [
       "NN()"
      ]
     },
     "execution_count": 82,
     "metadata": {},
     "output_type": "execute_result"
    }
   ],
   "source": []
  },
  {
   "cell_type": "code",
   "execution_count": null,
   "metadata": {},
   "outputs": [],
   "source": []
  }
 ],
 "metadata": {
  "kernelspec": {
   "display_name": "deep-q-network",
   "language": "python",
   "name": "deep-q-network"
  },
  "language_info": {
   "codemirror_mode": {
    "name": "ipython",
    "version": 3
   },
   "file_extension": ".py",
   "mimetype": "text/x-python",
   "name": "python",
   "nbconvert_exporter": "python",
   "pygments_lexer": "ipython3",
   "version": "3.7.3"
  }
 },
 "nbformat": 4,
 "nbformat_minor": 2
}
