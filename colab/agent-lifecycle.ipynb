{
 "cells": [
  {
   "cell_type": "markdown",
   "metadata": {},
   "source": [
    "# Agent ScratchPad"
   ]
  },
  {
   "cell_type": "code",
   "execution_count": 8,
   "metadata": {},
   "outputs": [],
   "source": [
    "import numpy as np\n",
    "import gym\n",
    "import random\n",
    "class Agent():\n",
    "    epsilon=.5\n",
    "    def __init__(self, env, net, buf):\n",
    "        self.env = env\n",
    "        self.model = net\n",
    "        self.buf = buf \n",
    "        \n",
    "    def choose_action(self, state):\n",
    "        if random.random() < self.epsilon:\n",
    "            return random.randint(0, self.env.action_space.n-1)\n",
    "        else:\n",
    "            return np.argmax(self.model.predict(state))\n",
    "        \n",
    "    def act(self, state):\n",
    "        action = self.choose_action(state)\n",
    "        next_state, reward, is_done, _ = self.env.step(action)\n",
    "        self.buf.add(state)\n",
    "        return (next_state, reward, is_done)\n",
    "    \n",
    "    def train_model(self, n):\n",
    "        data_buf = self.replay(n)\n",
    "        self.model.train(data_buf, data_buf)\n",
    "        \n",
    "    def replay(self, n):\n",
    "        return self.buf.sample(n)\n",
    "    \n",
    "class Model:\n",
    "    def __init__(self, actions):\n",
    "        self.a = actions\n",
    "    def train(self, x, y):\n",
    "        return \n",
    "    def predict(self, state):\n",
    "        return random.randint(0, self.a-1)\n",
    "\n",
    "class Buffer:\n",
    "    def __init__(self):\n",
    "        self.l = []\n",
    "    \n",
    "    def sample(self,n):\n",
    "        return random.choice(self.l)\n",
    "    \n",
    "    def add(self,s):\n",
    "        self.l.append(s)"
   ]
  },
  {
   "cell_type": "markdown",
   "metadata": {},
   "source": [
    "1. Setup env\n",
    "2. Setup some max_iterations\n",
    "3. init model\n",
    "4. init agent\n",
    "5. for each iteration\n",
    "    - ask the agent to choose an action\n",
    "    - Get its state et al. and add to the buffer\n",
    "    - every m iterations, signal to the agent that it should train its model to become smarter"
   ]
  },
  {
   "cell_type": "code",
   "execution_count": 9,
   "metadata": {},
   "outputs": [],
   "source": [
    "n = 1000\n",
    "env_name = \"AirRaid-ram-v0\"\n",
    "env = gym.make(env_name)\n",
    "model = Model(env.action_space.n)\n",
    "buf = Buffer()\n",
    "agent = Agent(env, model, buf)\n",
    "\n",
    "state = env.reset()\n",
    "for i in range(n):\n",
    "    agent.act(state)\n",
    "    if i%100 == 0:\n",
    "        agent.train_model(5)"
   ]
  },
  {
   "cell_type": "code",
   "execution_count": null,
   "metadata": {},
   "outputs": [],
   "source": []
  }
 ],
 "metadata": {
  "kernelspec": {
   "display_name": "deep-q-network",
   "language": "python",
   "name": "deep-q-network"
  },
  "language_info": {
   "codemirror_mode": {
    "name": "ipython",
    "version": 3
   },
   "file_extension": ".py",
   "mimetype": "text/x-python",
   "name": "python",
   "nbconvert_exporter": "python",
   "pygments_lexer": "ipython3",
   "version": "3.7.3"
  }
 },
 "nbformat": 4,
 "nbformat_minor": 2
}
