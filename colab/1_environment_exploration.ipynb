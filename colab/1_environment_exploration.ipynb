{
 "cells": [
  {
   "cell_type": "markdown",
   "metadata": {},
   "source": [
    "# OpenAi Atari Env"
   ]
  },
  {
   "cell_type": "code",
   "execution_count": 17,
   "metadata": {},
   "outputs": [],
   "source": [
    "import gym\n",
    "import gym.spaces\n",
    "from PIL import Image\n",
    "from gym.envs.atari import atari_env"
   ]
  },
  {
   "cell_type": "code",
   "execution_count": 18,
   "metadata": {},
   "outputs": [
    {
     "name": "stdout",
     "output_type": "stream",
     "text": [
      "Help on module gym.envs.atari.atari_env in gym.envs.atari:\n",
      "\n",
      "NAME\n",
      "    gym.envs.atari.atari_env\n",
      "\n",
      "CLASSES\n",
      "    gym.core.Env(builtins.object)\n",
      "        AtariEnv(gym.core.Env, gym.utils.ezpickle.EzPickle)\n",
      "    gym.utils.ezpickle.EzPickle(builtins.object)\n",
      "        AtariEnv(gym.core.Env, gym.utils.ezpickle.EzPickle)\n",
      "    \n",
      "    class AtariEnv(gym.core.Env, gym.utils.ezpickle.EzPickle)\n",
      "     |  The main OpenAI Gym class. It encapsulates an environment with\n",
      "     |  arbitrary behind-the-scenes dynamics. An environment can be\n",
      "     |  partially or fully observed.\n",
      "     |  \n",
      "     |  The main API methods that users of this class need to know are:\n",
      "     |  \n",
      "     |      step\n",
      "     |      reset\n",
      "     |      render\n",
      "     |      close\n",
      "     |      seed\n",
      "     |  \n",
      "     |  And set the following attributes:\n",
      "     |  \n",
      "     |      action_space: The Space object corresponding to valid actions\n",
      "     |      observation_space: The Space object corresponding to valid observations\n",
      "     |      reward_range: A tuple corresponding to the min and max possible rewards\n",
      "     |  \n",
      "     |  Note: a default reward range set to [-inf,+inf] already exists. Set it if you want a narrower range.\n",
      "     |  \n",
      "     |  The methods are accessed publicly as \"step\", \"reset\", etc.. The\n",
      "     |  non-underscored versions are wrapper methods to which we may add\n",
      "     |  functionality over time.\n",
      "     |  \n",
      "     |  Method resolution order:\n",
      "     |      AtariEnv\n",
      "     |      gym.core.Env\n",
      "     |      gym.utils.ezpickle.EzPickle\n",
      "     |      builtins.object\n",
      "     |  \n",
      "     |  Methods defined here:\n",
      "     |  \n",
      "     |  __init__(self, game='pong', obs_type='ram', frameskip=(2, 5), repeat_action_probability=0.0)\n",
      "     |      Frameskip should be either a tuple (indicating a random range to\n",
      "     |      choose from, with the top value exclude), or an int.\n",
      "     |  \n",
      "     |  clone_full_state(self)\n",
      "     |      Clone emulator state w/ system state including pseudorandomness.\n",
      "     |      Restoring this state will give an identical environment.\n",
      "     |  \n",
      "     |  clone_state(self)\n",
      "     |      Clone emulator state w/o system state. Restoring this state will\n",
      "     |      *not* give an identical environment. For complete cloning and restoring\n",
      "     |      of the full state, see `{clone,restore}_full_state()`.\n",
      "     |  \n",
      "     |  close(self)\n",
      "     |      Override _close in your subclass to perform any necessary cleanup.\n",
      "     |      \n",
      "     |      Environments will automatically close() themselves when\n",
      "     |      garbage collected or when the program exits.\n",
      "     |  \n",
      "     |  get_action_meanings(self)\n",
      "     |  \n",
      "     |  get_keys_to_action(self)\n",
      "     |  \n",
      "     |  render(self, mode='human')\n",
      "     |      Renders the environment.\n",
      "     |      \n",
      "     |      The set of supported modes varies per environment. (And some\n",
      "     |      environments do not support rendering at all.) By convention,\n",
      "     |      if mode is:\n",
      "     |      \n",
      "     |      - human: render to the current display or terminal and\n",
      "     |        return nothing. Usually for human consumption.\n",
      "     |      - rgb_array: Return an numpy.ndarray with shape (x, y, 3),\n",
      "     |        representing RGB values for an x-by-y pixel image, suitable\n",
      "     |        for turning into a video.\n",
      "     |      - ansi: Return a string (str) or StringIO.StringIO containing a\n",
      "     |        terminal-style text representation. The text can include newlines\n",
      "     |        and ANSI escape sequences (e.g. for colors).\n",
      "     |      \n",
      "     |      Note:\n",
      "     |          Make sure that your class's metadata 'render.modes' key includes\n",
      "     |            the list of supported modes. It's recommended to call super()\n",
      "     |            in implementations to use the functionality of this method.\n",
      "     |      \n",
      "     |      Args:\n",
      "     |          mode (str): the mode to render with\n",
      "     |          close (bool): close all open renderings\n",
      "     |      \n",
      "     |      Example:\n",
      "     |      \n",
      "     |      class MyEnv(Env):\n",
      "     |          metadata = {'render.modes': ['human', 'rgb_array']}\n",
      "     |      \n",
      "     |          def render(self, mode='human'):\n",
      "     |              if mode == 'rgb_array':\n",
      "     |                  return np.array(...) # return RGB frame suitable for video\n",
      "     |              elif mode is 'human':\n",
      "     |                  ... # pop up a window and render\n",
      "     |              else:\n",
      "     |                  super(MyEnv, self).render(mode=mode) # just raise an exception\n",
      "     |  \n",
      "     |  reset(self)\n",
      "     |      Resets the state of the environment and returns an initial observation.\n",
      "     |      \n",
      "     |      Returns: observation (object): the initial observation of the\n",
      "     |          space.\n",
      "     |  \n",
      "     |  restore_full_state(self, state)\n",
      "     |      Restore emulator state w/ system state including pseudorandomness.\n",
      "     |  \n",
      "     |  restore_state(self, state)\n",
      "     |      Restore emulator state w/o system state.\n",
      "     |  \n",
      "     |  seed(self, seed=None)\n",
      "     |      Sets the seed for this env's random number generator(s).\n",
      "     |      \n",
      "     |      Note:\n",
      "     |          Some environments use multiple pseudorandom number generators.\n",
      "     |          We want to capture all such seeds used in order to ensure that\n",
      "     |          there aren't accidental correlations between multiple generators.\n",
      "     |      \n",
      "     |      Returns:\n",
      "     |          list<bigint>: Returns the list of seeds used in this env's random\n",
      "     |            number generators. The first value in the list should be the\n",
      "     |            \"main\" seed, or the value which a reproducer should pass to\n",
      "     |            'seed'. Often, the main seed equals the provided 'seed', but\n",
      "     |            this won't be true if seed=None, for example.\n",
      "     |  \n",
      "     |  step(self, a)\n",
      "     |      Run one timestep of the environment's dynamics. When end of\n",
      "     |      episode is reached, you are responsible for calling `reset()`\n",
      "     |      to reset this environment's state.\n",
      "     |      \n",
      "     |      Accepts an action and returns a tuple (observation, reward, done, info).\n",
      "     |      \n",
      "     |      Args:\n",
      "     |          action (object): an action provided by the environment\n",
      "     |      \n",
      "     |      Returns:\n",
      "     |          observation (object): agent's observation of the current environment\n",
      "     |          reward (float) : amount of reward returned after previous action\n",
      "     |          done (boolean): whether the episode has ended, in which case further step() calls will return undefined results\n",
      "     |          info (dict): contains auxiliary diagnostic information (helpful for debugging, and sometimes learning)\n",
      "     |  \n",
      "     |  ----------------------------------------------------------------------\n",
      "     |  Data and other attributes defined here:\n",
      "     |  \n",
      "     |  metadata = {'render.modes': ['human', 'rgb_array']}\n",
      "     |  \n",
      "     |  ----------------------------------------------------------------------\n",
      "     |  Methods inherited from gym.core.Env:\n",
      "     |  \n",
      "     |  __str__(self)\n",
      "     |      Return str(self).\n",
      "     |  \n",
      "     |  ----------------------------------------------------------------------\n",
      "     |  Data descriptors inherited from gym.core.Env:\n",
      "     |  \n",
      "     |  __dict__\n",
      "     |      dictionary for instance variables (if defined)\n",
      "     |  \n",
      "     |  __weakref__\n",
      "     |      list of weak references to the object (if defined)\n",
      "     |  \n",
      "     |  unwrapped\n",
      "     |      Completely unwrap this env.\n",
      "     |      \n",
      "     |      Returns:\n",
      "     |          gym.Env: The base non-wrapped gym.Env instance\n",
      "     |  \n",
      "     |  ----------------------------------------------------------------------\n",
      "     |  Data and other attributes inherited from gym.core.Env:\n",
      "     |  \n",
      "     |  action_space = None\n",
      "     |  \n",
      "     |  observation_space = None\n",
      "     |  \n",
      "     |  reward_range = (-inf, inf)\n",
      "     |  \n",
      "     |  spec = None\n",
      "     |  \n",
      "     |  ----------------------------------------------------------------------\n",
      "     |  Methods inherited from gym.utils.ezpickle.EzPickle:\n",
      "     |  \n",
      "     |  __getstate__(self)\n",
      "     |  \n",
      "     |  __setstate__(self, d)\n",
      "\n",
      "FUNCTIONS\n",
      "    to_ram(ale)\n",
      "\n",
      "DATA\n",
      "    ACTION_MEANING = {0: 'NOOP', 1: 'FIRE', 2: 'UP', 3: 'RIGHT', 4: 'LEFT'...\n",
      "\n",
      "FILE\n",
      "    /Users/ramtinr/Desktop/Udacity-DRLND/code/gym/gym/envs/atari/atari_env.py\n",
      "\n",
      "\n"
     ]
    }
   ],
   "source": [
    "help(gym.envs.atari.atari_env)"
   ]
  },
  {
   "cell_type": "markdown",
   "metadata": {},
   "source": [
    "For each atari game openai has two environments: `{name}-ram-v{#}` and `{name}-v{#}`.\n",
    "for `ram` version of the game the observation is the RAM of the Atari machine, consisting of 128 bytes. Each action is repeatedly performed for a duration of kk frames, where kk is uniformly sampled from {2,3,4}"
   ]
  },
  {
   "cell_type": "code",
   "execution_count": 4,
   "metadata": {},
   "outputs": [
    {
     "data": {
      "text/plain": [
       "{0: 'NOOP',\n",
       " 1: 'FIRE',\n",
       " 2: 'UP',\n",
       " 3: 'RIGHT',\n",
       " 4: 'LEFT',\n",
       " 5: 'DOWN',\n",
       " 6: 'UPRIGHT',\n",
       " 7: 'UPLEFT',\n",
       " 8: 'DOWNRIGHT',\n",
       " 9: 'DOWNLEFT',\n",
       " 10: 'UPFIRE',\n",
       " 11: 'RIGHTFIRE',\n",
       " 12: 'LEFTFIRE',\n",
       " 13: 'DOWNFIRE',\n",
       " 14: 'UPRIGHTFIRE',\n",
       " 15: 'UPLEFTFIRE',\n",
       " 16: 'DOWNRIGHTFIRE',\n",
       " 17: 'DOWNLEFTFIRE'}"
      ]
     },
     "execution_count": 4,
     "metadata": {},
     "output_type": "execute_result"
    }
   ],
   "source": [
    "atari_env.ACTION_MEANING"
   ]
  },
  {
   "cell_type": "markdown",
   "metadata": {},
   "source": [
    "## Example Environment"
   ]
  },
  {
   "cell_type": "code",
   "execution_count": 5,
   "metadata": {},
   "outputs": [],
   "source": [
    "env = gym.make(\"AirRaid-v0\")"
   ]
  },
  {
   "cell_type": "code",
   "execution_count": 22,
   "metadata": {},
   "outputs": [
    {
     "name": "stdout",
     "output_type": "stream",
     "text": [
      "environment:  AirRaid-ram-v0\n",
      "action space:  Discrete(6)\n",
      "state space:  Box(128,)\n",
      "reward range:  (-inf, inf)\n",
      "action meanings:  ['NOOP', 'FIRE', 'RIGHT', 'LEFT', 'RIGHTFIRE', 'LEFTFIRE']\n"
     ]
    }
   ],
   "source": [
    "print(\"environment: \", env.env.spec.id)\n",
    "print(\"action space: \", env.action_space)\n",
    "print(\"state space: \", env.observation_space)\n",
    "print(\"reward range: \", env.reward_range)\n",
    "print(\"action meanings: \", env.env.get_action_meanings())"
   ]
  },
  {
   "cell_type": "code",
   "execution_count": 9,
   "metadata": {},
   "outputs": [],
   "source": [
    "obs = env.reset()"
   ]
  },
  {
   "cell_type": "code",
   "execution_count": 10,
   "metadata": {},
   "outputs": [
    {
     "data": {
      "image/png": "[encoded data removed]",
      "text/plain": [
       "<PIL.Image.Image image mode=RGB size=300x400 at 0x106585A90>"
      ]
     },
     "execution_count": 10,
     "metadata": {},
     "output_type": "execute_result"
    }
   ],
   "source": [
    "Image.fromarray(obs).resize((300, 400), Image.ANTIALIAS)"
   ]
  },
  {
   "cell_type": "code",
   "execution_count": 11,
   "metadata": {},
   "outputs": [],
   "source": [
    "env = gym.make(\"AirRaid-ram-v0\")"
   ]
  },
  {
   "cell_type": "code",
   "execution_count": 12,
   "metadata": {},
   "outputs": [],
   "source": [
    "obs = env.reset()"
   ]
  },
  {
   "cell_type": "code",
   "execution_count": 13,
   "metadata": {},
   "outputs": [
    {
     "data": {
      "text/plain": [
       "array([188, 184, 180, 184, 188,  62, 188,   0,   0,   0, 128,  16,  56,\n",
       "        68, 146,  56,  68,   0,  37,  64,  38, 118,   0, 159, 252, 159,\n",
       "       252,   0,   0,  48,  80, 133,  62,  62,  62,   0,   0,   0, 224,\n",
       "         2,   0,   0,   0,   0,   0,   0, 240, 246, 240, 246, 240, 246,\n",
       "       240, 246, 248, 246, 248, 246,   0,   0,   0,   0,   0,   0,   0,\n",
       "         0,   0,   0,   0,   0,   0,   0,   0,   0,   0,   0,   0,   0,\n",
       "         0,   0,   0,   0,   0,   0,   0,   0,   0,   1,   0,   3,   0,\n",
       "         0,   2, 254,   2,   2,   0,   0,   0,   0,   0,   0,   0,   0,\n",
       "         0, 255,   0,   0,   0,   0,   0,   0,  62,   0,   0,   0,  62,\n",
       "         0,   0,   0, 133,  48,   0,   0, 202, 245, 144, 245], dtype=uint8)"
      ]
     },
     "execution_count": 13,
     "metadata": {},
     "output_type": "execute_result"
    }
   ],
   "source": [
    "obs"
   ]
  },
  {
   "cell_type": "code",
   "execution_count": null,
   "metadata": {},
   "outputs": [],
   "source": []
  }
 ],
 "metadata": {
  "kernelspec": {
   "display_name": "drlnd",
   "language": "python",
   "name": "drlnd"
  },
  "language_info": {
   "codemirror_mode": {
    "name": "ipython",
    "version": 3
   },
   "file_extension": ".py",
   "mimetype": "text/x-python",
   "name": "python",
   "nbconvert_exporter": "python",
   "pygments_lexer": "ipython3",
   "version": "3.6.6"
  }
 },
 "nbformat": 4,
 "nbformat_minor": 2
}
